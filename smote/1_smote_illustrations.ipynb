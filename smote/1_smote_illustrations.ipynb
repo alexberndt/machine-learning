{
 "cells": [
  {
   "cell_type": "markdown",
   "metadata": {},
   "source": [
    "# SMOTE Techniques for Class Imbalances\n",
    "\n",
    "Based on [this article](https://machinelearningmastery.com/smote-oversampling-for-imbalanced-classification/) by Jason Brownlee."
   ]
  },
  {
   "cell_type": "code",
   "execution_count": null,
   "metadata": {},
   "outputs": [],
   "source": [
    "from collections import Counter\n",
    "\n",
    "from numpy import mean\n",
    "from sklearn.datasets import make_classification\n",
    "from sklearn.model_selection import cross_val_score\n",
    "from sklearn.model_selection import RepeatedStratifiedKFold\n",
    "from imblearn.pipeline import Pipeline\n",
    "from imblearn.over_sampling import SMOTE, SVMSMOTE, BorderlineSMOTE, ADASYN\n",
    "from imblearn.under_sampling import RandomUnderSampler\n",
    "\n",
    "import matplotlib.pyplot as plt\n",
    "from numpy import where\n",
    "\n",
    "from sklearn.model_selection import RepeatedStratifiedKFold\n",
    "from sklearn.tree import DecisionTreeClassifier"
   ]
  },
  {
   "cell_type": "markdown",
   "metadata": {},
   "source": [
    "## 1 Introduction to SMOTE and Variations\n",
    "\n",
    "### 1.1 Defining Dataset\n",
    "\n",
    "We start by creating a dataset with a large class imbalance.\n",
    "We will use this artificially created data throughout this notebook as an illustration."
   ]
  },
  {
   "cell_type": "code",
   "execution_count": null,
   "metadata": {},
   "outputs": [],
   "source": [
    "# Create an aritificial, 2-dimensional dataset\n",
    "X_orig, y_orig = make_classification(n_samples=10000, \n",
    "                                       n_features=2, \n",
    "                                       n_redundant=0,\n",
    "                                       n_clusters_per_class=1,\n",
    "                                       weights=[0.99], \n",
    "                                       flip_y=0,\n",
    "                                       random_state=1)"
   ]
  },
  {
   "cell_type": "markdown",
   "metadata": {},
   "source": [
    "Next, we define a function to plot our dataset. We will reuse this function throughout this notebook."
   ]
  },
  {
   "cell_type": "code",
   "execution_count": null,
   "metadata": {},
   "outputs": [],
   "source": [
    "def plot_dataset(X, y, title=\"Dataset\"):\n",
    "    \n",
    "    # Summarize class distribution\n",
    "    counter = Counter(y)\n",
    "    print(counter)\n",
    "    \n",
    "    for label, _ in counter.items():\n",
    "        row_ix = where(y == label)[0]\n",
    "        plt.scatter(X[row_ix, 0], X[row_ix, 1], label=str(label))\n",
    "\n",
    "    plt.legend()\n",
    "    plt.title(title)\n",
    "    plt.xlabel(\"feature 1\")\n",
    "    plt.ylabel(\"feature 2\")\n",
    "    plt.grid()\n",
    "    plt.show()"
   ]
  },
  {
   "cell_type": "code",
   "execution_count": null,
   "metadata": {},
   "outputs": [],
   "source": [
    "plot_dataset(X_orig, \n",
    "             y_orig, \n",
    "             title=\"Original dataset with 99-1 class imbalance\")"
   ]
  },
  {
   "cell_type": "markdown",
   "metadata": {},
   "source": [
    "### 1.2 SMOTE Fundamental Technique\n",
    "\n",
    "Our original dataset has a 99-1 class imbalance. We can use the synthetic minority oversampling technique (SMOTE) to artificially sample new datapoints for the minority class. \n",
    "\n",
    "We create an oversampling object *oversample* and fit our original dataset to this oversampler."
   ]
  },
  {
   "cell_type": "code",
   "execution_count": null,
   "metadata": {},
   "outputs": [],
   "source": [
    "# Instantiate oversampler and apply to our dataset\n",
    "oversample = SMOTE()\n",
    "X_smote, y_smote = oversample.fit_resample(X_orig, y_orig)\n",
    "\n",
    "plot_dataset(X_smote, \n",
    "             y_smote, \n",
    "             title=\"Oversampled dataset using SMOTE\")"
   ]
  },
  {
   "cell_type": "markdown",
   "metadata": {},
   "source": [
    "Note that we have oversampled the minority class such that it has the same number of samples as the majority class. The class balance is now 1-1."
   ]
  },
  {
   "cell_type": "markdown",
   "metadata": {},
   "source": [
    "### 1.3 SMOTE with Random Undersampling\n",
    "\n",
    "In large class imbalances (such as this case), oversampling the minority class can sometimes yield worse results since the new samples do not necessarily correctly represent the minority class.\n",
    "\n",
    "A solution is to only oversample the minority sample to less than the majority class, and then to undersample the majority class."
   ]
  },
  {
   "cell_type": "code",
   "execution_count": null,
   "metadata": {},
   "outputs": [],
   "source": [
    "over = SMOTE(sampling_strategy=0.1)\n",
    "under = RandomUnderSampler(sampling_strategy=0.5)\n",
    "steps = [('o', over), ('u', under)]\n",
    "pipeline = Pipeline(steps=steps)\n",
    "\n",
    "X, y = pipeline.fit_resample(X_orig, y_orig)\n",
    "plot_dataset(X, y, title=\"Oversampled 0.1 and undersampled 0.5\")"
   ]
  },
  {
   "cell_type": "markdown",
   "metadata": {},
   "source": [
    "### 1.4 Borderline SMOTE"
   ]
  },
  {
   "cell_type": "code",
   "execution_count": null,
   "metadata": {},
   "outputs": [],
   "source": [
    "oversample = BorderlineSMOTE()\n",
    "X, y = oversample.fit_resample(X_orig, y_orig)\n",
    "plot_dataset(X, y, title=\"Borderline SMOTE\")"
   ]
  },
  {
   "cell_type": "markdown",
   "metadata": {},
   "source": [
    "### 1.5 Adaptive Synthetic Sampling (ADASYN)"
   ]
  },
  {
   "cell_type": "code",
   "execution_count": null,
   "metadata": {},
   "outputs": [],
   "source": [
    "oversample = ADASYN()\n",
    "X, y = oversample.fit_resample(X_orig, y_orig)\n",
    "plot_dataset(X, y, title=\"Adaptive Synthetic Sampling (ADASYN)\")"
   ]
  },
  {
   "cell_type": "markdown",
   "metadata": {},
   "source": [
    "### 1.6 Borderline SMOTE with SVM"
   ]
  },
  {
   "cell_type": "code",
   "execution_count": null,
   "metadata": {},
   "outputs": [],
   "source": [
    "oversample = SVMSMOTE()\n",
    "X, y = oversample.fit_resample(X_orig, y_orig)\n",
    "plot_dataset(X, y, title=\"Borderline SMOTE\")"
   ]
  },
  {
   "cell_type": "markdown",
   "metadata": {},
   "source": [
    "## 2 Classification with SMOTE\n",
    "\n",
    "Let us now evaluate how a classifier performs using these SMOTE variations.\n",
    "\n",
    "### 2.1 Comparing a Basic Classifier to SMOTE Variations"
   ]
  },
  {
   "cell_type": "code",
   "execution_count": null,
   "metadata": {},
   "outputs": [],
   "source": [
    "# Define the cross-validation protocol\n",
    "cv = RepeatedStratifiedKFold(n_splits=10, n_repeats=3, random_state=1)\n",
    "\n",
    "# Evaluate using the original dataset\n",
    "model = DecisionTreeClassifier()\n",
    "\n",
    "scores = cross_val_score(model, X_orig, y_orig, scoring='roc_auc', cv=cv, n_jobs=-1)\n",
    "print('Original dataset:\\nMean ROC AUC: %.3f \\n\\n' % mean(scores))\n",
    "\n",
    "# Evaluate using SMOTE\n",
    "steps = [('over', SMOTE()), ('model', model)]\n",
    "pipeline = Pipeline(steps=steps)\n",
    "\n",
    "scores = cross_val_score(pipeline, X_orig, y_orig, scoring='roc_auc', cv=cv, n_jobs=-1)\n",
    "print('SMOTE dataset:\\nMean ROC AUC: %.3f \\n\\n' % mean(scores))\n",
    "\n",
    "# Evaluate over- and undersampling SMOTE \n",
    "over = SMOTE(sampling_strategy=0.1)\n",
    "under = RandomUnderSampler(sampling_strategy=0.5)\n",
    "steps = [('over', over), ('under', under), ('model', model)]\n",
    "pipeline = Pipeline(steps=steps)\n",
    "\n",
    "scores = cross_val_score(pipeline, X_orig, y_orig, scoring='roc_auc', cv=cv, n_jobs=-1)\n",
    "print('Over- and undersampling dataset:\\nMean ROC AUC: %.3f \\n\\n' % mean(scores))\n",
    "\n",
    "# Evaluate over- and undersampling Borderline SMOTE \n",
    "over = BorderlineSMOTE(sampling_strategy=0.1)\n",
    "under = RandomUnderSampler(sampling_strategy=0.5)\n",
    "steps = [('over', over), ('under', under), ('model', model)]\n",
    "pipeline = Pipeline(steps=steps)\n",
    "\n",
    "scores = cross_val_score(pipeline, X_orig, y_orig, scoring='roc_auc', cv=cv, n_jobs=-1)\n",
    "print('Borderline SMOTE Over- and undersampling dataset:\\nMean ROC AUC: %.3f \\n\\n' % mean(scores))\n",
    "\n",
    "# Evaluate over- and undersampling SVM-SMOTE \n",
    "over = SVMSMOTE(sampling_strategy=0.1)\n",
    "under = RandomUnderSampler(sampling_strategy=0.5)\n",
    "steps = [('over', over), ('under', under), ('model', model)]\n",
    "pipeline = Pipeline(steps=steps)\n",
    "\n",
    "scores = cross_val_score(pipeline, X_orig, y_orig, scoring='roc_auc', cv=cv, n_jobs=-1)\n",
    "print('SVM-SMOTE Over- and undersampling dataset:\\nMean ROC AUC: %.3f \\n\\n' % mean(scores))\n",
    "\n",
    "# Evaluate over- and undersampling ADASYN SMOTE \n",
    "over = ADASYN(sampling_strategy=0.1)\n",
    "under = RandomUnderSampler(sampling_strategy=0.5)\n",
    "steps = [('over', over), ('under', under), ('model', model)]\n",
    "pipeline = Pipeline(steps=steps)\n",
    "\n",
    "scores = cross_val_score(pipeline, X_orig, y_orig, scoring='roc_auc', cv=cv, n_jobs=-1)\n",
    "print('ADASYN Over- and undersampling dataset:\\nMean ROC AUC: %.3f \\n' % mean(scores))"
   ]
  },
  {
   "cell_type": "markdown",
   "metadata": {},
   "source": [
    "### 2.2 Evaluate Various k-values of SMOTE\n",
    "\n",
    "SMOTE uses the $k$-NN algorithm to synthesize new data points. Hence, we can adjust the SMOTE algorithm for various $k$ values."
   ]
  },
  {
   "cell_type": "code",
   "execution_count": null,
   "metadata": {},
   "outputs": [],
   "source": [
    "for k in range(1,10):\n",
    "    \n",
    "    # define pipeline\n",
    "    model = DecisionTreeClassifier()\n",
    "    over = SMOTE(sampling_strategy=0.1, k_neighbors=k)\n",
    "    under = RandomUnderSampler(sampling_strategy=0.5)\n",
    "    steps = [('over', over), ('under', under), ('model', model)]\n",
    "    pipeline = Pipeline(steps=steps)\n",
    "    \n",
    "    # evaluate pipeline\n",
    "    cv = RepeatedStratifiedKFold(n_splits=10, n_repeats=3, random_state=1)\n",
    "    scores = cross_val_score(pipeline, \n",
    "                             X_orig, \n",
    "                             y_orig, \n",
    "                             scoring='roc_auc', \n",
    "                             cv=cv, \n",
    "                             n_jobs=-1)\n",
    "    score = mean(scores)\n",
    "    print('  k=%d, Mean ROC AUC: %.3f' % (k, score))"
   ]
  },
  {
   "cell_type": "code",
   "execution_count": null,
   "metadata": {},
   "outputs": [],
   "source": []
  }
 ],
 "metadata": {
  "kernelspec": {
   "display_name": "Python 3",
   "language": "python",
   "name": "python3"
  },
  "language_info": {
   "codemirror_mode": {
    "name": "ipython",
    "version": 3
   },
   "file_extension": ".py",
   "mimetype": "text/x-python",
   "name": "python",
   "nbconvert_exporter": "python",
   "pygments_lexer": "ipython3",
   "version": "3.6.13"
  }
 },
 "nbformat": 4,
 "nbformat_minor": 4
}
